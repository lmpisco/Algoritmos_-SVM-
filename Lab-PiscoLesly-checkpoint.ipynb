{
 "cells": [
  {
   "cell_type": "code",
   "execution_count": 18,
   "id": "15e15ac7",
   "metadata": {},
   "outputs": [
    {
     "name": "stdout",
     "output_type": "stream",
     "text": [
      "Librerías a utilizar para realizar el entrenamiento del modelo. \n",
      "    Estas librerías son una herramienta muy importantes para realizar la codificación en Python.\n"
     ]
    }
   ],
   "source": [
    "def librerias( ):\n",
    "    '''Librerías a utilizar para realizar el entrenamiento del modelo. \n",
    "    Estas librerías son una herramienta muy importantes para realizar la codificación en Python.'''\n",
    "from sklearn.datasets import load_wine\n",
    "from sklearn import datasets\n",
    "from sklearn.model_selection import train_test_split\n",
    "from sklearn import svm\n",
    "from sklearn import metrics\n",
    "from sklearn.metrics import classification_report\n",
    "from sklearn.metrics import confusion_matrix\n",
    "from sklearn.metrics import accuracy_score, precision_score, recall_score, f1_score\n",
    "print(librerias.__doc__)\n",
    "import numpy\n",
    "import seaborn as sns\n",
    "import plotly.figure_factory as ff\n"
   ]
  },
  {
   "cell_type": "code",
   "execution_count": 19,
   "id": "fc9e2e37",
   "metadata": {
    "scrolled": true
   },
   "outputs": [
    {
     "name": "stdout",
     "output_type": "stream",
     "text": [
      "Asignacion de un dataset a la varibale dicc o tambien conocida como diccionario de datos.\n",
      "    En este caso se da uso de un dataset que esta almacenada en sklearn, esto quiere decir que los datos serán extraidos desde internet.\n",
      "\n",
      "    Es necesario mencionar que la función retorna la variable \"dicc\".\n"
     ]
    }
   ],
   "source": [
    "def dataset():\n",
    "    '''Asignacion de un dataset a la varibale dicc o tambien conocida como diccionario de datos.\n",
    "    En este caso se da uso de un dataset que esta almacenada en sklearn, esto quiere decir que los datos serán extraidos desde internet.\\n\n",
    "    Es necesario mencionar que la función retorna la variable \"dicc\".'''\n",
    "    dicc = datasets.load_wine()\n",
    "    return(dicc)\n",
    "print(dataset.__doc__)"
   ]
  },
  {
   "cell_type": "code",
   "execution_count": 20,
   "id": "4cfef8d2",
   "metadata": {},
   "outputs": [
    {
     "name": "stdout",
     "output_type": "stream",
     "text": [
      "Impresión de las características del dataset. \n",
      "    En este caso se llama a la función que retorna el diccionario de datos y a su vez se llama las características del mismo.\n",
      "    Como se quiere observar dichos valores se procede a imprimir el contenido de la función que imprime las características.\n",
      "Características:\n",
      " ['alcohol', 'malic_acid', 'ash', 'alcalinity_of_ash', 'magnesium', 'total_phenols', 'flavanoids', 'nonflavanoid_phenols', 'proanthocyanins', 'color_intensity', 'hue', 'od280/od315_of_diluted_wines', 'proline']\n",
      "None\n"
     ]
    }
   ],
   "source": [
    "def imprimirCaracteristicas():\n",
    "    '''Impresión de las características del dataset. \n",
    "    En este caso se llama a la función que retorna el diccionario de datos y a su vez se llama las características del mismo.\n",
    "    Como se quiere observar dichos valores se procede a imprimir el contenido de la función que imprime las características.'''\n",
    "    print(\"Características:\\n\", dataset().feature_names)    \n",
    "print(imprimirCaracteristicas.__doc__)\n",
    "print(imprimirCaracteristicas())"
   ]
  },
  {
   "cell_type": "code",
   "execution_count": 21,
   "id": "68395dd4",
   "metadata": {},
   "outputs": [
    {
     "name": "stdout",
     "output_type": "stream",
     "text": [
      "Impresión de las etiquetas del dataset. Al hablar de etiquetas se refiere a los valores en \"Y\" o mas conocidos como variables objetivos.\n",
      "Etiquetas:\n",
      " ['class_0' 'class_1' 'class_2']\n",
      "None\n"
     ]
    }
   ],
   "source": [
    "def imprimirEtiquetas():\n",
    "    '''Impresión de las etiquetas del dataset. Al hablar de etiquetas se refiere a los valores en \"Y\" o mas conocidos como variables objetivos.'''\n",
    "    print(\"Etiquetas:\\n\", dataset().target_names)\n",
    "print(imprimirEtiquetas.__doc__)\n",
    "print(imprimirEtiquetas())"
   ]
  },
  {
   "cell_type": "code",
   "execution_count": 22,
   "id": "c7975ecb",
   "metadata": {},
   "outputs": [
    {
     "name": "stdout",
     "output_type": "stream",
     "text": [
      "Impresión de las dimensiones del dataset. El resultado a mostrar son (filas y columnas), \n",
      "    pero en caso de querer solo el valor de las filas se debe de tomar como un arreglo es decir [0] o [1].\n",
      "Dimensión del dataset:\n",
      " (178, 13)\n",
      "None\n"
     ]
    }
   ],
   "source": [
    "def imprimirDimension():\n",
    "    '''Impresión de las dimensiones del dataset. El resultado a mostrar son (filas y columnas), \n",
    "    pero en caso de querer solo el valor de las filas se debe de tomar como un arreglo es decir [0] o [1].'''\n",
    "    print(\"Dimensión del dataset:\\n\", dataset().data.shape)\n",
    "print(imprimirDimension.__doc__)\n",
    "print(imprimirDimension())"
   ]
  },
  {
   "cell_type": "code",
   "execution_count": 23,
   "id": "ed27f618",
   "metadata": {},
   "outputs": [
    {
     "name": "stdout",
     "output_type": "stream",
     "text": [
      "Impresión de los cinco primeros registros del dataset. \n",
      "    Es por ello que se coloca [0:5] en caso de querer mas registros se aumenta el segundo valor. \n",
      "Record de los cinco primeros:\n",
      " [[1.423e+01 1.710e+00 2.430e+00 1.560e+01 1.270e+02 2.800e+00 3.060e+00\n",
      "  2.800e-01 2.290e+00 5.640e+00 1.040e+00 3.920e+00 1.065e+03]\n",
      " [1.320e+01 1.780e+00 2.140e+00 1.120e+01 1.000e+02 2.650e+00 2.760e+00\n",
      "  2.600e-01 1.280e+00 4.380e+00 1.050e+00 3.400e+00 1.050e+03]\n",
      " [1.316e+01 2.360e+00 2.670e+00 1.860e+01 1.010e+02 2.800e+00 3.240e+00\n",
      "  3.000e-01 2.810e+00 5.680e+00 1.030e+00 3.170e+00 1.185e+03]\n",
      " [1.437e+01 1.950e+00 2.500e+00 1.680e+01 1.130e+02 3.850e+00 3.490e+00\n",
      "  2.400e-01 2.180e+00 7.800e+00 8.600e-01 3.450e+00 1.480e+03]\n",
      " [1.324e+01 2.590e+00 2.870e+00 2.100e+01 1.180e+02 2.800e+00 2.690e+00\n",
      "  3.900e-01 1.820e+00 4.320e+00 1.040e+00 2.930e+00 7.350e+02]]\n",
      "None\n"
     ]
    }
   ],
   "source": [
    "def imprimirTop():\n",
    "    '''Impresión de los cinco primeros registros del dataset. \n",
    "    Es por ello que se coloca [0:5] en caso de querer mas registros se aumenta el segundo valor. '''\n",
    "    print(\"Record de los cinco primeros:\\n\", dataset().data[0:5])\n",
    "print(imprimirTop.__doc__)\n",
    "print(imprimirTop())"
   ]
  },
  {
   "cell_type": "code",
   "execution_count": 24,
   "id": "dfccc657",
   "metadata": {},
   "outputs": [
    {
     "name": "stdout",
     "output_type": "stream",
     "text": [
      "Asignación del 30% de los datos para realizar las pruebas, en este caso de asignan datos randomicamente.\n",
      "    Para colocar de forma mas demostrativa las características y etiquetas se aginan a las variables correcpondientes que en este caso son (X and y).\n",
      "    \n"
     ]
    }
   ],
   "source": [
    "def asignacionTest():\n",
    "    '''Asignación del 30% de los datos para realizar las pruebas, en este caso de asignan datos randomicamente.\n",
    "    Para colocar de forma mas demostrativa las características y etiquetas se aginan a las variables correcpondientes que en este caso son (X and y).\n",
    "    '''\n",
    "X = dataset().data\n",
    "y = dataset().target\n",
    "X_train, X_test, y_train, y_test = train_test_split(X, y, test_size=0.3, random_state=109)\n",
    "print(asignacionTest.__doc__)"
   ]
  },
  {
   "cell_type": "code",
   "execution_count": 25,
   "id": "edee8474",
   "metadata": {},
   "outputs": [
    {
     "name": "stdout",
     "output_type": "stream",
     "text": [
      "Cuando se escoge el kernel se tiene que tener en cuenta que se hace uso de los hiperparametros.\n",
      "    Otro concepto es que cuando este es configurado por el programador es hiperparametros. \n",
      "    Al contrario de los parametros que se configuran en el entrenamiento. \n"
     ]
    }
   ],
   "source": [
    "def escogerModelo():\n",
    "    '''Cuando se escoge el kernel se tiene que tener en cuenta que se hace uso de los hiperparametros.\n",
    "    Otro concepto es que cuando este es configurado por el programador es hiperparametros. \n",
    "    Al contrario de los parametros que se configuran en el entrenamiento. '''\n",
    "    clf = svm.SVC(kernel='linear')\n",
    "    return(clf)\n",
    "print(escogerModelo.__doc__)"
   ]
  },
  {
   "cell_type": "code",
   "execution_count": 26,
   "id": "d4c8dddf",
   "metadata": {},
   "outputs": [
    {
     "name": "stdout",
     "output_type": "stream",
     "text": [
      "Uso de las caracteristicas y etiquetas para realizar el entrenamiento. \n",
      "    En este caso se llama al modelo que contiene el kernel anteriormente escogido\n",
      "    y para el entrenamiento se usa la funcion que brinda Python que en este caso es \"fit\".\n"
     ]
    }
   ],
   "source": [
    "def entrenamiento():\n",
    "    '''Uso de las caracteristicas y etiquetas para realizar el entrenamiento. \n",
    "    En este caso se llama al modelo que contiene el kernel anteriormente escogido\n",
    "    y para el entrenamiento se usa la funcion que brinda Python que en este caso es \"fit\".'''\n",
    "    return(escogerModelo().fit(X_train, y_train))\n",
    "print(entrenamiento.__doc__)"
   ]
  },
  {
   "cell_type": "code",
   "execution_count": 27,
   "id": "58ef8713",
   "metadata": {},
   "outputs": [
    {
     "name": "stdout",
     "output_type": "stream",
     "text": [
      "Uso de los test de caracteristicas para realizar la predicción. Para su implementación se da uso del entrenamiento\n",
      "    y este llama a la función \"predict\" la cual es propia de Python, como parámetro se tiene el test de la variable de objetivo\n",
      "[0 0 1 2 0 1 0 0 1 0 1 2 2 2 0 1 1 0 0 0 2 1 0 2 0 0 1 2 0 1 2 1 1 0 1 1 0\n",
      " 2 2 0 2 0 0 0 0 2 2 0 1 1 2 0 0 2]\n"
     ]
    }
   ],
   "source": [
    "def predecir():\n",
    "    '''Uso de los test de caracteristicas para realizar la predicción. Para su implementación se da uso del entrenamiento\n",
    "    y este llama a la función \"predict\" la cual es propia de Python, como parámetro se tiene el test de la variable de objetivo'''\n",
    "    y_pred = entrenamiento().predict(X_test)\n",
    "    return(y_pred)\n",
    "print(predecir.__doc__)\n",
    "print(predecir())"
   ]
  },
  {
   "cell_type": "code",
   "execution_count": 28,
   "id": "92be2711",
   "metadata": {},
   "outputs": [
    {
     "name": "stdout",
     "output_type": "stream",
     "text": [
      "Para sacar la precision, se toma en cuenta el test de las etiquetas y la predicción de etiquetas para ello se hace uso de la función \"accuracy_score\"\n",
      "Accuracy: 0.9259259259259259\n",
      "None\n"
     ]
    }
   ],
   "source": [
    "def precision():\n",
    "    '''Para sacar la precision, se toma en cuenta el test de las etiquetas y la predicción de etiquetas para ello se hace uso de la función \"accuracy_score\"'''\n",
    "    print(\"Accuracy:\", metrics.accuracy_score(y_test, predecir()))\n",
    "print(precision.__doc__)\n",
    "print(precision())"
   ]
  },
  {
   "cell_type": "code",
   "execution_count": 29,
   "id": "baecf7d7",
   "metadata": {},
   "outputs": [
    {
     "name": "stdout",
     "output_type": "stream",
     "text": [
      "Puntuación de precisión de las etiquetas de pruebas y predicción\n",
      "Precision: 0.9259259259259259\n",
      "None\n"
     ]
    }
   ],
   "source": [
    "def valorPrecision():\n",
    "    '''Puntuación de precisión de las etiquetas de pruebas y predicción'''\n",
    "    print(\"Precision:\", metrics.precision_score(y_test, predecir(),average='micro'))\n",
    "print(valorPrecision.__doc__)\n",
    "print(valorPrecision())"
   ]
  },
  {
   "cell_type": "code",
   "execution_count": 30,
   "id": "a1444683",
   "metadata": {},
   "outputs": [
    {
     "name": "stdout",
     "output_type": "stream",
     "text": [
      "Puntuación de recuperación de las etiquetas de pruebas y predicción\n",
      "Recall: 0.9259259259259259\n",
      "None\n"
     ]
    }
   ],
   "source": [
    "def puntuacionRecuperacion():\n",
    "    '''Puntuación de recuperación de las etiquetas de pruebas y predicción'''\n",
    "    print(\"Recall:\", metrics.recall_score(y_test, predecir(),average='micro'))\n",
    "print(puntuacionRecuperacion.__doc__)\n",
    "print(puntuacionRecuperacion())"
   ]
  },
  {
   "cell_type": "code",
   "execution_count": 31,
   "id": "bc019dea",
   "metadata": {},
   "outputs": [
    {
     "name": "stdout",
     "output_type": "stream",
     "text": [
      "Se crea la matriz de confusión y para ello se usan las etiquetas de pruebas y predicción\n",
      "[[21  0  0]\n",
      " [ 3 15  1]\n",
      " [ 0  0 14]]\n",
      "\n",
      " Reporte de classificacion\n",
      "\n",
      "              precision    recall  f1-score   support\n",
      "\n",
      "     Class 1       0.88      1.00      0.93        21\n",
      "     Class 2       1.00      0.79      0.88        19\n",
      "     Class 3       0.93      1.00      0.97        14\n",
      "\n",
      "    accuracy                           0.93        54\n",
      "   macro avg       0.94      0.93      0.93        54\n",
      "weighted avg       0.93      0.93      0.92        54\n",
      "\n"
     ]
    }
   ],
   "source": [
    "def matrizConfusion():\n",
    "    '''Se crea la matriz de confusión y para ello se usan las etiquetas de pruebas y predicción'''\n",
    "    matrizConf=(confusion_matrix(y_test, predecir()))\n",
    "    #print( matrizConf)\n",
    "    return(matrizConf)\n",
    "print(matrizConfusion.__doc__ )\n",
    "print(matrizConfusion())\n",
    "print('\\n Reporte de classificacion\\n')\n",
    "print(classification_report(y_test, predecir(), target_names=['Class 1', 'Class 2', 'Class 3']))"
   ]
  },
  {
   "cell_type": "code",
   "execution_count": null,
   "id": "567d656c",
   "metadata": {},
   "outputs": [],
   "source": []
  }
 ],
 "metadata": {
  "kernelspec": {
   "display_name": "Python 3 (ipykernel)",
   "language": "python",
   "name": "python3"
  },
  "language_info": {
   "codemirror_mode": {
    "name": "ipython",
    "version": 3
   },
   "file_extension": ".py",
   "mimetype": "text/x-python",
   "name": "python",
   "nbconvert_exporter": "python",
   "pygments_lexer": "ipython3",
   "version": "3.9.12"
  }
 },
 "nbformat": 4,
 "nbformat_minor": 5
}
