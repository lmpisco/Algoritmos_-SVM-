{
 "cells": [
  {
   "cell_type": "markdown",
   "id": "34ebf636-f8da-4746-9bfd-29ccb2a6477b",
   "metadata": {},
   "source": [
    "# ***Librerías***"
   ]
  },
  {
   "cell_type": "code",
   "execution_count": 1,
   "id": "127d62ee",
   "metadata": {},
   "outputs": [
    {
     "name": "stdout",
     "output_type": "stream",
     "text": [
      "Librerías a utilizar para realizar el entrenamiento del modelo. \n",
      "    Estas librerías son una herramienta muy importantes para realizar la codificación en Python.\n"
     ]
    }
   ],
   "source": [
    "def librerias( ):\n",
    "    '''Librerías a utilizar para realizar el entrenamiento del modelo. \n",
    "    Estas librerías son una herramienta muy importantes para realizar la codificación en Python.'''\n",
    "from sklearn.datasets import load_wine\n",
    "from sklearn import datasets\n",
    "from sklearn.model_selection import train_test_split\n",
    "from sklearn import svm\n",
    "from sklearn import metrics\n",
    "from sklearn.metrics import classification_report\n",
    "from sklearn.metrics import confusion_matrix\n",
    "from sklearn.metrics import accuracy_score, precision_score, recall_score, f1_score\n",
    "print(librerias.__doc__)\n",
    "import numpy\n",
    "import seaborn as sns\n",
    "import plotly.figure_factory as ff\n"
   ]
  },
  {
   "cell_type": "markdown",
   "id": "a629a718-b861-44d2-b323-6edad75d7aad",
   "metadata": {},
   "source": [
    "# ***Asignación del dataset***"
   ]
  },
  {
   "cell_type": "code",
   "execution_count": 2,
   "id": "6a36cbc3",
   "metadata": {
    "scrolled": true
   },
   "outputs": [
    {
     "name": "stdout",
     "output_type": "stream",
     "text": [
      "Asignacion de un dataset a la varibale dicc o tambien conocida como diccionario de datos.\n",
      "    En este caso se da uso de un dataset que esta almacenada en sklearn, esto quiere decir que los datos serán extraidos desde internet.\n",
      "\n",
      "    Es necesario mencionar que la función retorna la variable \"dicc\".\n"
     ]
    }
   ],
   "source": [
    "def dataset():\n",
    "    '''Asignacion de un dataset a la varibale dicc o tambien conocida como diccionario de datos.\n",
    "    En este caso se da uso de un dataset que esta almacenada en sklearn, esto quiere decir que los datos serán extraidos desde internet.\\n\n",
    "    Es necesario mencionar que la función retorna la variable \"dicc\".'''\n",
    "    dicc = datasets.load_wine()\n",
    "    return(dicc)\n",
    "print(dataset.__doc__)"
   ]
  },
  {
   "cell_type": "markdown",
   "id": "37c9619c-dce0-40d2-b54c-e5aba2f8614a",
   "metadata": {},
   "source": [
    "# ***Impreisón de las vaiables de entrada y objetivo***"
   ]
  },
  {
   "cell_type": "code",
   "execution_count": 3,
   "id": "a8467bdb",
   "metadata": {},
   "outputs": [
    {
     "name": "stdout",
     "output_type": "stream",
     "text": [
      "Impresión de las características del dataset. \n",
      "    En este caso se llama a la función que retorna el diccionario de datos y a su vez se llama las características del mismo.\n",
      "    Como se quiere observar dichos valores se procede a imprimir el contenido de la función que imprime las características.\n",
      "Características:\n",
      " ['alcohol', 'malic_acid', 'ash', 'alcalinity_of_ash', 'magnesium', 'total_phenols', 'flavanoids', 'nonflavanoid_phenols', 'proanthocyanins', 'color_intensity', 'hue', 'od280/od315_of_diluted_wines', 'proline']\n",
      "None\n"
     ]
    }
   ],
   "source": [
    "def imprimirCaracteristicas():\n",
    "    '''Impresión de las características del dataset. \n",
    "    En este caso se llama a la función que retorna el diccionario de datos y a su vez se llama las características del mismo.\n",
    "    Como se quiere observar dichos valores se procede a imprimir el contenido de la función que imprime las características.'''\n",
    "    print(\"Características:\\n\", dataset().feature_names)    \n",
    "print(imprimirCaracteristicas.__doc__)\n",
    "print(imprimirCaracteristicas())"
   ]
  },
  {
   "cell_type": "code",
   "execution_count": 4,
   "id": "a7817cbc",
   "metadata": {},
   "outputs": [
    {
     "name": "stdout",
     "output_type": "stream",
     "text": [
      "Impresión de las etiquetas del dataset. Al hablar de etiquetas se refiere a los valores en \"Y\" o mas conocidos como variables objetivos.\n",
      "Etiquetas:\n",
      " ['class_0' 'class_1' 'class_2']\n",
      "None\n"
     ]
    }
   ],
   "source": [
    "def imprimirEtiquetas():\n",
    "    '''Impresión de las etiquetas del dataset. Al hablar de etiquetas se refiere a los valores en \"Y\" o mas conocidos como variables objetivos.'''\n",
    "    print(\"Etiquetas:\\n\", dataset().target_names)\n",
    "print(imprimirEtiquetas.__doc__)\n",
    "print(imprimirEtiquetas())"
   ]
  },
  {
   "cell_type": "markdown",
   "id": "5add528f-868b-4e64-b19a-2799b9372472",
   "metadata": {},
   "source": [
    "# ***Impresión de la dimensión del dataset y el top de los 5 primeros registros***"
   ]
  },
  {
   "cell_type": "code",
   "execution_count": 5,
   "id": "73b6ff69",
   "metadata": {},
   "outputs": [
    {
     "name": "stdout",
     "output_type": "stream",
     "text": [
      "Impresión de las dimensiones del dataset. El resultado a mostrar son (filas y columnas), \n",
      "    pero en caso de querer solo el valor de las filas se debe de tomar como un arreglo es decir [0] o [1].\n",
      "Dimensión del dataset:\n",
      " (178, 13)\n",
      "None\n"
     ]
    }
   ],
   "source": [
    "def imprimirDimension():\n",
    "    '''Impresión de las dimensiones del dataset. El resultado a mostrar son (filas y columnas), \n",
    "    pero en caso de querer solo el valor de las filas se debe de tomar como un arreglo es decir [0] o [1].'''\n",
    "    print(\"Dimensión del dataset:\\n\", dataset().data.shape)\n",
    "print(imprimirDimension.__doc__)\n",
    "print(imprimirDimension())"
   ]
  },
  {
   "cell_type": "code",
   "execution_count": 6,
   "id": "4488560e",
   "metadata": {},
   "outputs": [
    {
     "name": "stdout",
     "output_type": "stream",
     "text": [
      "Impresión de los cinco primeros registros del dataset. \n",
      "    Es por ello que se coloca [0:5] en caso de querer mas registros se aumenta el segundo valor. \n",
      "Record de los cinco primeros:\n",
      " [[1.423e+01 1.710e+00 2.430e+00 1.560e+01 1.270e+02 2.800e+00 3.060e+00\n",
      "  2.800e-01 2.290e+00 5.640e+00 1.040e+00 3.920e+00 1.065e+03]\n",
      " [1.320e+01 1.780e+00 2.140e+00 1.120e+01 1.000e+02 2.650e+00 2.760e+00\n",
      "  2.600e-01 1.280e+00 4.380e+00 1.050e+00 3.400e+00 1.050e+03]\n",
      " [1.316e+01 2.360e+00 2.670e+00 1.860e+01 1.010e+02 2.800e+00 3.240e+00\n",
      "  3.000e-01 2.810e+00 5.680e+00 1.030e+00 3.170e+00 1.185e+03]\n",
      " [1.437e+01 1.950e+00 2.500e+00 1.680e+01 1.130e+02 3.850e+00 3.490e+00\n",
      "  2.400e-01 2.180e+00 7.800e+00 8.600e-01 3.450e+00 1.480e+03]\n",
      " [1.324e+01 2.590e+00 2.870e+00 2.100e+01 1.180e+02 2.800e+00 2.690e+00\n",
      "  3.900e-01 1.820e+00 4.320e+00 1.040e+00 2.930e+00 7.350e+02]]\n",
      "None\n"
     ]
    }
   ],
   "source": [
    "def imprimirTop():\n",
    "    '''Impresión de los cinco primeros registros del dataset. \n",
    "    Es por ello que se coloca [0:5] en caso de querer mas registros se aumenta el segundo valor. '''\n",
    "    print(\"Record de los cinco primeros:\\n\", dataset().data[0:5])\n",
    "print(imprimirTop.__doc__)\n",
    "print(imprimirTop())"
   ]
  },
  {
   "cell_type": "markdown",
   "id": "3b00d532-8358-458f-824b-3d5e643d2406",
   "metadata": {},
   "source": [
    "# ***Implemenación para asignar el 30% de datos para pruebas***"
   ]
  },
  {
   "cell_type": "code",
   "execution_count": 7,
   "id": "9baa0397",
   "metadata": {},
   "outputs": [
    {
     "name": "stdout",
     "output_type": "stream",
     "text": [
      "Asignación del 30% de los datos para realizar las pruebas, en este caso de asignan datos randomicamente.\n",
      "    Para colocar de forma mas demostrativa las características y etiquetas se aginan a las variables correcpondientes que en este caso son (X and y).\n",
      "    \n"
     ]
    }
   ],
   "source": [
    "def asignacionTest():\n",
    "    '''Asignación del 30% de los datos para realizar las pruebas, en este caso de asignan datos randomicamente.\n",
    "    Para colocar de forma mas demostrativa las características y etiquetas se aginan a las variables correcpondientes que en este caso son (X and y).\n",
    "    '''\n",
    "X = dataset().data\n",
    "y = dataset().target\n",
    "X_train, X_test, y_train, y_test = train_test_split(X, y, test_size=0.3, random_state=109)\n",
    "print(asignacionTest.__doc__)"
   ]
  },
  {
   "cell_type": "markdown",
   "id": "e8d26d46-2f24-4208-8963-6b511663c2d0",
   "metadata": {},
   "source": [
    "# ***Uso del Kernel***"
   ]
  },
  {
   "cell_type": "code",
   "execution_count": 8,
   "id": "7cfacd09",
   "metadata": {},
   "outputs": [
    {
     "name": "stdout",
     "output_type": "stream",
     "text": [
      "Cuando se escoge el kernel se tiene que tener en cuenta que se hace uso de los hiperparametros.\n",
      "    Otro concepto es que cuando este es configurado por el programador es hiperparametros. \n",
      "    Al contrario de los parametros que se configuran en el entrenamiento. \n"
     ]
    }
   ],
   "source": [
    "def escogerModelo():\n",
    "    '''Cuando se escoge el kernel se tiene que tener en cuenta que se hace uso de los hiperparametros.\n",
    "    Otro concepto es que cuando este es configurado por el programador es hiperparametros. \n",
    "    Al contrario de los parametros que se configuran en el entrenamiento. '''\n",
    "    clf = svm.SVC(kernel='linear')\n",
    "    return(clf)\n",
    "print(escogerModelo.__doc__)"
   ]
  },
  {
   "cell_type": "markdown",
   "id": "ab6cfce0-d212-4c2f-8c48-5b2253030c47",
   "metadata": {},
   "source": [
    "# ***Entrenamiento del algoritmo***"
   ]
  },
  {
   "cell_type": "code",
   "execution_count": 9,
   "id": "8e90cd96",
   "metadata": {},
   "outputs": [
    {
     "name": "stdout",
     "output_type": "stream",
     "text": [
      "Uso de las caracteristicas y etiquetas para realizar el entrenamiento. \n",
      "    En este caso se llama al modelo que contiene el kernel anteriormente escogido\n",
      "    y para el entrenamiento se usa la funcion que brinda Python que en este caso es \"fit\".\n"
     ]
    }
   ],
   "source": [
    "def entrenamiento():\n",
    "    '''Uso de las caracteristicas y etiquetas para realizar el entrenamiento. \n",
    "    En este caso se llama al modelo que contiene el kernel anteriormente escogido\n",
    "    y para el entrenamiento se usa la funcion que brinda Python que en este caso es \"fit\".'''\n",
    "    return(escogerModelo().fit(X_train, y_train))\n",
    "print(entrenamiento.__doc__)"
   ]
  },
  {
   "cell_type": "markdown",
   "id": "9a6cc55a-58df-4ea6-8388-478ad5a78efa",
   "metadata": {},
   "source": [
    "####  ****Fución para predecir**** "
   ]
  },
  {
   "cell_type": "code",
   "execution_count": 10,
   "id": "59c4dde3",
   "metadata": {},
   "outputs": [
    {
     "name": "stdout",
     "output_type": "stream",
     "text": [
      "Uso de los test de caracteristicas para realizar la predicción. Para su implementación se da uso del entrenamiento\n",
      "    y este llama a la función \"predict\" la cual es propia de Python, como parámetro se tiene el test de la variable de objetivo\n",
      "[0 0 1 2 0 1 0 0 1 0 1 2 2 2 0 1 1 0 0 0 2 1 0 2 0 0 1 2 0 1 2 1 1 0 1 1 0\n",
      " 2 2 0 2 0 0 0 0 2 2 0 1 1 2 0 0 2]\n"
     ]
    }
   ],
   "source": [
    "def predecir():\n",
    "    '''Uso de los test de caracteristicas para realizar la predicción. Para su implementación se da uso del entrenamiento\n",
    "    y este llama a la función \"predict\" la cual es propia de Python, como parámetro se tiene el test de la variable de objetivo'''\n",
    "    y_pred = entrenamiento().predict(X_test)\n",
    "    return(y_pred)\n",
    "print(predecir.__doc__)\n",
    "print(predecir())"
   ]
  },
  {
   "cell_type": "markdown",
   "id": "67a46543-a111-42c2-9780-dc3ae1ae7751",
   "metadata": {},
   "source": [
    "####  ****Fución para la precisión**** "
   ]
  },
  {
   "cell_type": "code",
   "execution_count": 11,
   "id": "f434e1d8",
   "metadata": {},
   "outputs": [
    {
     "name": "stdout",
     "output_type": "stream",
     "text": [
      "Para sacar la precision, se toma en cuenta el test de las etiquetas y la predicción de etiquetas para ello se hace uso de la función \"accuracy_score\"\n",
      "Accuracy: 0.9259259259259259\n",
      "None\n"
     ]
    }
   ],
   "source": [
    "def precision():\n",
    "    '''Para sacar la precision, se toma en cuenta el test de las etiquetas y la predicción de etiquetas para ello se hace uso de la función \"accuracy_score\"'''\n",
    "    print(\"Accuracy:\", metrics.accuracy_score(y_test, predecir()))\n",
    "print(precision.__doc__)\n",
    "print(precision())"
   ]
  },
  {
   "cell_type": "code",
   "execution_count": 12,
   "id": "0975094a",
   "metadata": {},
   "outputs": [
    {
     "name": "stdout",
     "output_type": "stream",
     "text": [
      "Puntuación de precisión de las etiquetas de pruebas y predicción\n",
      "Precision: 0.9259259259259259\n",
      "None\n"
     ]
    }
   ],
   "source": [
    "def valorPrecision():\n",
    "    '''Puntuación de precisión de las etiquetas de pruebas y predicción'''\n",
    "    print(\"Precision:\", metrics.precision_score(y_test, predecir(),average='micro'))\n",
    "print(valorPrecision.__doc__)\n",
    "print(valorPrecision())"
   ]
  },
  {
   "cell_type": "markdown",
   "id": "b4b2bcdc-dc55-4e4c-8e06-ba7b94bdc4a0",
   "metadata": {},
   "source": [
    "####  ****Fución para larecuperación (recall)**** "
   ]
  },
  {
   "cell_type": "code",
   "execution_count": 13,
   "id": "64f0c57f",
   "metadata": {},
   "outputs": [
    {
     "name": "stdout",
     "output_type": "stream",
     "text": [
      "Puntuación de recuperación de las etiquetas de pruebas y predicción\n",
      "Recall: 0.9259259259259259\n",
      "None\n"
     ]
    }
   ],
   "source": [
    "def puntuacionRecuperacion():\n",
    "    '''Puntuación de recuperación de las etiquetas de pruebas y predicción'''\n",
    "    print(\"Recall:\", metrics.recall_score(y_test, predecir(),average='micro'))\n",
    "print(puntuacionRecuperacion.__doc__)\n",
    "print(puntuacionRecuperacion())"
   ]
  },
  {
   "cell_type": "markdown",
   "id": "4a997a39-5b7f-45d5-8b75-0455fa0c8e55",
   "metadata": {},
   "source": [
    "##  ****Matriz de confusión**** "
   ]
  },
  {
   "cell_type": "code",
   "execution_count": 14,
   "id": "1df7aa35",
   "metadata": {},
   "outputs": [
    {
     "name": "stdout",
     "output_type": "stream",
     "text": [
      "Se crea la matriz de confusión y para ello se usan las etiquetas de pruebas y predicción\n",
      "[[21  0  0]\n",
      " [ 3 15  1]\n",
      " [ 0  0 14]]\n",
      "\n",
      " Reporte de classificacion\n",
      "\n",
      "              precision    recall  f1-score   support\n",
      "\n",
      "     Class 1       0.88      1.00      0.93        21\n",
      "     Class 2       1.00      0.79      0.88        19\n",
      "     Class 3       0.93      1.00      0.97        14\n",
      "\n",
      "    accuracy                           0.93        54\n",
      "   macro avg       0.94      0.93      0.93        54\n",
      "weighted avg       0.93      0.93      0.92        54\n",
      "\n"
     ]
    }
   ],
   "source": [
    "def matrizConfusion():\n",
    "    '''Se crea la matriz de confusión y para ello se usan las etiquetas de pruebas y predicción'''\n",
    "    matrizConf=(confusion_matrix(y_test, predecir()))\n",
    "    #print( matrizConf)\n",
    "    return(matrizConf)\n",
    "print(matrizConfusion.__doc__ )\n",
    "print(matrizConfusion())\n",
    "print('\\n Reporte de classificacion\\n')\n",
    "print(classification_report(y_test, predecir(), target_names=['Class 1', 'Class 2', 'Class 3']))"
   ]
  },
  {
   "cell_type": "markdown",
   "id": "fa1ba066-6251-4cf8-ab3a-4f2fe720f674",
   "metadata": {},
   "source": [
    "##  ****Gráfica de la matriz de confusión**** "
   ]
  },
  {
   "cell_type": "code",
   "execution_count": 48,
   "id": "3d46d6f7",
   "metadata": {},
   "outputs": [
    {
     "name": "stdout",
     "output_type": "stream",
     "text": [
      "Graficar la matriz de confusion con diseños estructurados\n"
     ]
    },
    {
     "data": {
      "application/vnd.plotly.v1+json": {
       "config": {
        "plotlyServerURL": "https://plot.ly"
       },
       "data": [
        {
         "colorscale": [
          [
           0,
           "rgb(247,252,240)"
          ],
          [
           0.125,
           "rgb(224,243,219)"
          ],
          [
           0.25,
           "rgb(204,235,197)"
          ],
          [
           0.375,
           "rgb(168,221,181)"
          ],
          [
           0.5,
           "rgb(123,204,196)"
          ],
          [
           0.625,
           "rgb(78,179,211)"
          ],
          [
           0.75,
           "rgb(43,140,190)"
          ],
          [
           0.875,
           "rgb(8,104,172)"
          ],
          [
           1,
           "rgb(8,64,129)"
          ]
         ],
         "reversescale": false,
         "showscale": true,
         "type": "heatmap",
         "x": [
          0,
          1,
          2
         ],
         "y": [
          0,
          1,
          2
         ],
         "z": [
          [
           21,
           0,
           0
          ],
          [
           3,
           15,
           1
          ],
          [
           0,
           0,
           14
          ]
         ]
        }
       ],
       "layout": {
        "annotations": [
         {
          "font": {
           "color": "#FFFFFF"
          },
          "showarrow": false,
          "text": "21",
          "x": 0,
          "xref": "x",
          "y": 0,
          "yref": "y"
         },
         {
          "font": {
           "color": "#000000"
          },
          "showarrow": false,
          "text": "0",
          "x": 1,
          "xref": "x",
          "y": 0,
          "yref": "y"
         },
         {
          "font": {
           "color": "#000000"
          },
          "showarrow": false,
          "text": "0",
          "x": 2,
          "xref": "x",
          "y": 0,
          "yref": "y"
         },
         {
          "font": {
           "color": "#000000"
          },
          "showarrow": false,
          "text": "3",
          "x": 0,
          "xref": "x",
          "y": 1,
          "yref": "y"
         },
         {
          "font": {
           "color": "#FFFFFF"
          },
          "showarrow": false,
          "text": "15",
          "x": 1,
          "xref": "x",
          "y": 1,
          "yref": "y"
         },
         {
          "font": {
           "color": "#000000"
          },
          "showarrow": false,
          "text": "1",
          "x": 2,
          "xref": "x",
          "y": 1,
          "yref": "y"
         },
         {
          "font": {
           "color": "#000000"
          },
          "showarrow": false,
          "text": "0",
          "x": 0,
          "xref": "x",
          "y": 2,
          "yref": "y"
         },
         {
          "font": {
           "color": "#000000"
          },
          "showarrow": false,
          "text": "0",
          "x": 1,
          "xref": "x",
          "y": 2,
          "yref": "y"
         },
         {
          "font": {
           "color": "#FFFFFF"
          },
          "showarrow": false,
          "text": "14",
          "x": 2,
          "xref": "x",
          "y": 2,
          "yref": "y"
         },
         {
          "font": {
           "color": "black",
           "size": 14
          },
          "showarrow": false,
          "text": "<i><b>Predicted value</b></i>",
          "x": 0.5,
          "xref": "paper",
          "y": -0.15,
          "yref": "paper"
         },
         {
          "font": {
           "color": "black",
           "size": 14
          },
          "showarrow": false,
          "text": "<i><b>Real value</b></i>",
          "textangle": -90,
          "x": -0.2,
          "xref": "paper",
          "y": 0.5,
          "yref": "paper"
         }
        ],
        "autosize": true,
        "margin": {
         "l": 200,
         "t": 150
        },
        "template": {
         "data": {
          "bar": [
           {
            "error_x": {
             "color": "#2a3f5f"
            },
            "error_y": {
             "color": "#2a3f5f"
            },
            "marker": {
             "line": {
              "color": "#E5ECF6",
              "width": 0.5
             },
             "pattern": {
              "fillmode": "overlay",
              "size": 10,
              "solidity": 0.2
             }
            },
            "type": "bar"
           }
          ],
          "barpolar": [
           {
            "marker": {
             "line": {
              "color": "#E5ECF6",
              "width": 0.5
             },
             "pattern": {
              "fillmode": "overlay",
              "size": 10,
              "solidity": 0.2
             }
            },
            "type": "barpolar"
           }
          ],
          "carpet": [
           {
            "aaxis": {
             "endlinecolor": "#2a3f5f",
             "gridcolor": "white",
             "linecolor": "white",
             "minorgridcolor": "white",
             "startlinecolor": "#2a3f5f"
            },
            "baxis": {
             "endlinecolor": "#2a3f5f",
             "gridcolor": "white",
             "linecolor": "white",
             "minorgridcolor": "white",
             "startlinecolor": "#2a3f5f"
            },
            "type": "carpet"
           }
          ],
          "choropleth": [
           {
            "colorbar": {
             "outlinewidth": 0,
             "ticks": ""
            },
            "type": "choropleth"
           }
          ],
          "contour": [
           {
            "colorbar": {
             "outlinewidth": 0,
             "ticks": ""
            },
            "colorscale": [
             [
              0,
              "#0d0887"
             ],
             [
              0.1111111111111111,
              "#46039f"
             ],
             [
              0.2222222222222222,
              "#7201a8"
             ],
             [
              0.3333333333333333,
              "#9c179e"
             ],
             [
              0.4444444444444444,
              "#bd3786"
             ],
             [
              0.5555555555555556,
              "#d8576b"
             ],
             [
              0.6666666666666666,
              "#ed7953"
             ],
             [
              0.7777777777777778,
              "#fb9f3a"
             ],
             [
              0.8888888888888888,
              "#fdca26"
             ],
             [
              1,
              "#f0f921"
             ]
            ],
            "type": "contour"
           }
          ],
          "contourcarpet": [
           {
            "colorbar": {
             "outlinewidth": 0,
             "ticks": ""
            },
            "type": "contourcarpet"
           }
          ],
          "heatmap": [
           {
            "colorbar": {
             "outlinewidth": 0,
             "ticks": ""
            },
            "colorscale": [
             [
              0,
              "#0d0887"
             ],
             [
              0.1111111111111111,
              "#46039f"
             ],
             [
              0.2222222222222222,
              "#7201a8"
             ],
             [
              0.3333333333333333,
              "#9c179e"
             ],
             [
              0.4444444444444444,
              "#bd3786"
             ],
             [
              0.5555555555555556,
              "#d8576b"
             ],
             [
              0.6666666666666666,
              "#ed7953"
             ],
             [
              0.7777777777777778,
              "#fb9f3a"
             ],
             [
              0.8888888888888888,
              "#fdca26"
             ],
             [
              1,
              "#f0f921"
             ]
            ],
            "type": "heatmap"
           }
          ],
          "heatmapgl": [
           {
            "colorbar": {
             "outlinewidth": 0,
             "ticks": ""
            },
            "colorscale": [
             [
              0,
              "#0d0887"
             ],
             [
              0.1111111111111111,
              "#46039f"
             ],
             [
              0.2222222222222222,
              "#7201a8"
             ],
             [
              0.3333333333333333,
              "#9c179e"
             ],
             [
              0.4444444444444444,
              "#bd3786"
             ],
             [
              0.5555555555555556,
              "#d8576b"
             ],
             [
              0.6666666666666666,
              "#ed7953"
             ],
             [
              0.7777777777777778,
              "#fb9f3a"
             ],
             [
              0.8888888888888888,
              "#fdca26"
             ],
             [
              1,
              "#f0f921"
             ]
            ],
            "type": "heatmapgl"
           }
          ],
          "histogram": [
           {
            "marker": {
             "pattern": {
              "fillmode": "overlay",
              "size": 10,
              "solidity": 0.2
             }
            },
            "type": "histogram"
           }
          ],
          "histogram2d": [
           {
            "colorbar": {
             "outlinewidth": 0,
             "ticks": ""
            },
            "colorscale": [
             [
              0,
              "#0d0887"
             ],
             [
              0.1111111111111111,
              "#46039f"
             ],
             [
              0.2222222222222222,
              "#7201a8"
             ],
             [
              0.3333333333333333,
              "#9c179e"
             ],
             [
              0.4444444444444444,
              "#bd3786"
             ],
             [
              0.5555555555555556,
              "#d8576b"
             ],
             [
              0.6666666666666666,
              "#ed7953"
             ],
             [
              0.7777777777777778,
              "#fb9f3a"
             ],
             [
              0.8888888888888888,
              "#fdca26"
             ],
             [
              1,
              "#f0f921"
             ]
            ],
            "type": "histogram2d"
           }
          ],
          "histogram2dcontour": [
           {
            "colorbar": {
             "outlinewidth": 0,
             "ticks": ""
            },
            "colorscale": [
             [
              0,
              "#0d0887"
             ],
             [
              0.1111111111111111,
              "#46039f"
             ],
             [
              0.2222222222222222,
              "#7201a8"
             ],
             [
              0.3333333333333333,
              "#9c179e"
             ],
             [
              0.4444444444444444,
              "#bd3786"
             ],
             [
              0.5555555555555556,
              "#d8576b"
             ],
             [
              0.6666666666666666,
              "#ed7953"
             ],
             [
              0.7777777777777778,
              "#fb9f3a"
             ],
             [
              0.8888888888888888,
              "#fdca26"
             ],
             [
              1,
              "#f0f921"
             ]
            ],
            "type": "histogram2dcontour"
           }
          ],
          "mesh3d": [
           {
            "colorbar": {
             "outlinewidth": 0,
             "ticks": ""
            },
            "type": "mesh3d"
           }
          ],
          "parcoords": [
           {
            "line": {
             "colorbar": {
              "outlinewidth": 0,
              "ticks": ""
             }
            },
            "type": "parcoords"
           }
          ],
          "pie": [
           {
            "automargin": true,
            "type": "pie"
           }
          ],
          "scatter": [
           {
            "marker": {
             "colorbar": {
              "outlinewidth": 0,
              "ticks": ""
             }
            },
            "type": "scatter"
           }
          ],
          "scatter3d": [
           {
            "line": {
             "colorbar": {
              "outlinewidth": 0,
              "ticks": ""
             }
            },
            "marker": {
             "colorbar": {
              "outlinewidth": 0,
              "ticks": ""
             }
            },
            "type": "scatter3d"
           }
          ],
          "scattercarpet": [
           {
            "marker": {
             "colorbar": {
              "outlinewidth": 0,
              "ticks": ""
             }
            },
            "type": "scattercarpet"
           }
          ],
          "scattergeo": [
           {
            "marker": {
             "colorbar": {
              "outlinewidth": 0,
              "ticks": ""
             }
            },
            "type": "scattergeo"
           }
          ],
          "scattergl": [
           {
            "marker": {
             "colorbar": {
              "outlinewidth": 0,
              "ticks": ""
             }
            },
            "type": "scattergl"
           }
          ],
          "scattermapbox": [
           {
            "marker": {
             "colorbar": {
              "outlinewidth": 0,
              "ticks": ""
             }
            },
            "type": "scattermapbox"
           }
          ],
          "scatterpolar": [
           {
            "marker": {
             "colorbar": {
              "outlinewidth": 0,
              "ticks": ""
             }
            },
            "type": "scatterpolar"
           }
          ],
          "scatterpolargl": [
           {
            "marker": {
             "colorbar": {
              "outlinewidth": 0,
              "ticks": ""
             }
            },
            "type": "scatterpolargl"
           }
          ],
          "scatterternary": [
           {
            "marker": {
             "colorbar": {
              "outlinewidth": 0,
              "ticks": ""
             }
            },
            "type": "scatterternary"
           }
          ],
          "surface": [
           {
            "colorbar": {
             "outlinewidth": 0,
             "ticks": ""
            },
            "colorscale": [
             [
              0,
              "#0d0887"
             ],
             [
              0.1111111111111111,
              "#46039f"
             ],
             [
              0.2222222222222222,
              "#7201a8"
             ],
             [
              0.3333333333333333,
              "#9c179e"
             ],
             [
              0.4444444444444444,
              "#bd3786"
             ],
             [
              0.5555555555555556,
              "#d8576b"
             ],
             [
              0.6666666666666666,
              "#ed7953"
             ],
             [
              0.7777777777777778,
              "#fb9f3a"
             ],
             [
              0.8888888888888888,
              "#fdca26"
             ],
             [
              1,
              "#f0f921"
             ]
            ],
            "type": "surface"
           }
          ],
          "table": [
           {
            "cells": {
             "fill": {
              "color": "#EBF0F8"
             },
             "line": {
              "color": "white"
             }
            },
            "header": {
             "fill": {
              "color": "#C8D4E3"
             },
             "line": {
              "color": "white"
             }
            },
            "type": "table"
           }
          ]
         },
         "layout": {
          "annotationdefaults": {
           "arrowcolor": "#2a3f5f",
           "arrowhead": 0,
           "arrowwidth": 1
          },
          "autotypenumbers": "strict",
          "coloraxis": {
           "colorbar": {
            "outlinewidth": 0,
            "ticks": ""
           }
          },
          "colorscale": {
           "diverging": [
            [
             0,
             "#8e0152"
            ],
            [
             0.1,
             "#c51b7d"
            ],
            [
             0.2,
             "#de77ae"
            ],
            [
             0.3,
             "#f1b6da"
            ],
            [
             0.4,
             "#fde0ef"
            ],
            [
             0.5,
             "#f7f7f7"
            ],
            [
             0.6,
             "#e6f5d0"
            ],
            [
             0.7,
             "#b8e186"
            ],
            [
             0.8,
             "#7fbc41"
            ],
            [
             0.9,
             "#4d9221"
            ],
            [
             1,
             "#276419"
            ]
           ],
           "sequential": [
            [
             0,
             "#0d0887"
            ],
            [
             0.1111111111111111,
             "#46039f"
            ],
            [
             0.2222222222222222,
             "#7201a8"
            ],
            [
             0.3333333333333333,
             "#9c179e"
            ],
            [
             0.4444444444444444,
             "#bd3786"
            ],
            [
             0.5555555555555556,
             "#d8576b"
            ],
            [
             0.6666666666666666,
             "#ed7953"
            ],
            [
             0.7777777777777778,
             "#fb9f3a"
            ],
            [
             0.8888888888888888,
             "#fdca26"
            ],
            [
             1,
             "#f0f921"
            ]
           ],
           "sequentialminus": [
            [
             0,
             "#0d0887"
            ],
            [
             0.1111111111111111,
             "#46039f"
            ],
            [
             0.2222222222222222,
             "#7201a8"
            ],
            [
             0.3333333333333333,
             "#9c179e"
            ],
            [
             0.4444444444444444,
             "#bd3786"
            ],
            [
             0.5555555555555556,
             "#d8576b"
            ],
            [
             0.6666666666666666,
             "#ed7953"
            ],
            [
             0.7777777777777778,
             "#fb9f3a"
            ],
            [
             0.8888888888888888,
             "#fdca26"
            ],
            [
             1,
             "#f0f921"
            ]
           ]
          },
          "colorway": [
           "#636efa",
           "#EF553B",
           "#00cc96",
           "#ab63fa",
           "#FFA15A",
           "#19d3f3",
           "#FF6692",
           "#B6E880",
           "#FF97FF",
           "#FECB52"
          ],
          "font": {
           "color": "#2a3f5f"
          },
          "geo": {
           "bgcolor": "white",
           "lakecolor": "white",
           "landcolor": "#E5ECF6",
           "showlakes": true,
           "showland": true,
           "subunitcolor": "white"
          },
          "hoverlabel": {
           "align": "left"
          },
          "hovermode": "closest",
          "mapbox": {
           "style": "light"
          },
          "paper_bgcolor": "white",
          "plot_bgcolor": "#E5ECF6",
          "polar": {
           "angularaxis": {
            "gridcolor": "white",
            "linecolor": "white",
            "ticks": ""
           },
           "bgcolor": "#E5ECF6",
           "radialaxis": {
            "gridcolor": "white",
            "linecolor": "white",
            "ticks": ""
           }
          },
          "scene": {
           "xaxis": {
            "backgroundcolor": "#E5ECF6",
            "gridcolor": "white",
            "gridwidth": 2,
            "linecolor": "white",
            "showbackground": true,
            "ticks": "",
            "zerolinecolor": "white"
           },
           "yaxis": {
            "backgroundcolor": "#E5ECF6",
            "gridcolor": "white",
            "gridwidth": 2,
            "linecolor": "white",
            "showbackground": true,
            "ticks": "",
            "zerolinecolor": "white"
           },
           "zaxis": {
            "backgroundcolor": "#E5ECF6",
            "gridcolor": "white",
            "gridwidth": 2,
            "linecolor": "white",
            "showbackground": true,
            "ticks": "",
            "zerolinecolor": "white"
           }
          },
          "shapedefaults": {
           "line": {
            "color": "#2a3f5f"
           }
          },
          "ternary": {
           "aaxis": {
            "gridcolor": "white",
            "linecolor": "white",
            "ticks": ""
           },
           "baxis": {
            "gridcolor": "white",
            "linecolor": "white",
            "ticks": ""
           },
           "bgcolor": "#E5ECF6",
           "caxis": {
            "gridcolor": "white",
            "linecolor": "white",
            "ticks": ""
           }
          },
          "title": {
           "x": 0.05
          },
          "xaxis": {
           "automargin": true,
           "gridcolor": "white",
           "linecolor": "white",
           "ticks": "",
           "title": {
            "standoff": 15
           },
           "zerolinecolor": "white",
           "zerolinewidth": 2
          },
          "yaxis": {
           "automargin": true,
           "gridcolor": "white",
           "linecolor": "white",
           "ticks": "",
           "title": {
            "standoff": 15
           },
           "zerolinecolor": "white",
           "zerolinewidth": 2
          }
         }
        },
        "title": {
         "text": "<i><b>Matriz de Confusión</b></i>"
        },
        "xaxis": {
         "autorange": true,
         "dtick": 1,
         "gridcolor": "rgb(0, 0, 0)",
         "range": [
          -0.5,
          2.5
         ],
         "side": "top",
         "ticks": "",
         "type": "linear"
        },
        "yaxis": {
         "autorange": true,
         "dtick": 1,
         "range": [
          -0.5,
          2.5
         ],
         "ticks": "",
         "ticksuffix": "  ",
         "type": "linear"
        }
       }
      },
      "image/png": "[encoded data removed]",
      "text/html": [
       "<div>                            <div id=\"72ce156c-7a34-46c9-af2e-45b4151ec4af\" class=\"plotly-graph-div\" style=\"height:525px; width:100%;\"></div>            <script type=\"text/javascript\">                require([\"plotly\"], function(Plotly) {                    window.PLOTLYENV=window.PLOTLYENV || {};                                    if (document.getElementById(\"72ce156c-7a34-46c9-af2e-45b4151ec4af\")) {                    Plotly.newPlot(                        \"72ce156c-7a34-46c9-af2e-45b4151ec4af\",                        [{\"colorscale\":[[0.0,\"rgb(247,252,240)\"],[0.125,\"rgb(224,243,219)\"],[0.25,\"rgb(204,235,197)\"],[0.375,\"rgb(168,221,181)\"],[0.5,\"rgb(123,204,196)\"],[0.625,\"rgb(78,179,211)\"],[0.75,\"rgb(43,140,190)\"],[0.875,\"rgb(8,104,172)\"],[1.0,\"rgb(8,64,129)\"]],\"reversescale\":false,\"showscale\":true,\"x\":[0,1,2],\"y\":[0,1,2],\"z\":[[21,0,0],[3,15,1],[0,0,14]],\"type\":\"heatmap\"}],                        {\"annotations\":[{\"font\":{\"color\":\"#FFFFFF\"},\"showarrow\":false,\"text\":\"21\",\"x\":0,\"xref\":\"x\",\"y\":0,\"yref\":\"y\"},{\"font\":{\"color\":\"#000000\"},\"showarrow\":false,\"text\":\"0\",\"x\":1,\"xref\":\"x\",\"y\":0,\"yref\":\"y\"},{\"font\":{\"color\":\"#000000\"},\"showarrow\":false,\"text\":\"0\",\"x\":2,\"xref\":\"x\",\"y\":0,\"yref\":\"y\"},{\"font\":{\"color\":\"#000000\"},\"showarrow\":false,\"text\":\"3\",\"x\":0,\"xref\":\"x\",\"y\":1,\"yref\":\"y\"},{\"font\":{\"color\":\"#FFFFFF\"},\"showarrow\":false,\"text\":\"15\",\"x\":1,\"xref\":\"x\",\"y\":1,\"yref\":\"y\"},{\"font\":{\"color\":\"#000000\"},\"showarrow\":false,\"text\":\"1\",\"x\":2,\"xref\":\"x\",\"y\":1,\"yref\":\"y\"},{\"font\":{\"color\":\"#000000\"},\"showarrow\":false,\"text\":\"0\",\"x\":0,\"xref\":\"x\",\"y\":2,\"yref\":\"y\"},{\"font\":{\"color\":\"#000000\"},\"showarrow\":false,\"text\":\"0\",\"x\":1,\"xref\":\"x\",\"y\":2,\"yref\":\"y\"},{\"font\":{\"color\":\"#FFFFFF\"},\"showarrow\":false,\"text\":\"14\",\"x\":2,\"xref\":\"x\",\"y\":2,\"yref\":\"y\"},{\"font\":{\"color\":\"black\",\"size\":14},\"showarrow\":false,\"text\":\"<i><b>Predicted value</b></i>\",\"x\":0.5,\"xref\":\"paper\",\"y\":-0.15,\"yref\":\"paper\"},{\"font\":{\"color\":\"black\",\"size\":14},\"showarrow\":false,\"text\":\"<i><b>Real value</b></i>\",\"textangle\":-90,\"x\":-0.2,\"xref\":\"paper\",\"y\":0.5,\"yref\":\"paper\"}],\"xaxis\":{\"dtick\":1,\"gridcolor\":\"rgb(0, 0, 0)\",\"side\":\"top\",\"ticks\":\"\"},\"yaxis\":{\"dtick\":1,\"ticks\":\"\",\"ticksuffix\":\"  \"},\"template\":{\"data\":{\"bar\":[{\"error_x\":{\"color\":\"#2a3f5f\"},\"error_y\":{\"color\":\"#2a3f5f\"},\"marker\":{\"line\":{\"color\":\"#E5ECF6\",\"width\":0.5},\"pattern\":{\"fillmode\":\"overlay\",\"size\":10,\"solidity\":0.2}},\"type\":\"bar\"}],\"barpolar\":[{\"marker\":{\"line\":{\"color\":\"#E5ECF6\",\"width\":0.5},\"pattern\":{\"fillmode\":\"overlay\",\"size\":10,\"solidity\":0.2}},\"type\":\"barpolar\"}],\"carpet\":[{\"aaxis\":{\"endlinecolor\":\"#2a3f5f\",\"gridcolor\":\"white\",\"linecolor\":\"white\",\"minorgridcolor\":\"white\",\"startlinecolor\":\"#2a3f5f\"},\"baxis\":{\"endlinecolor\":\"#2a3f5f\",\"gridcolor\":\"white\",\"linecolor\":\"white\",\"minorgridcolor\":\"white\",\"startlinecolor\":\"#2a3f5f\"},\"type\":\"carpet\"}],\"choropleth\":[{\"colorbar\":{\"outlinewidth\":0,\"ticks\":\"\"},\"type\":\"choropleth\"}],\"contour\":[{\"colorbar\":{\"outlinewidth\":0,\"ticks\":\"\"},\"colorscale\":[[0.0,\"#0d0887\"],[0.1111111111111111,\"#46039f\"],[0.2222222222222222,\"#7201a8\"],[0.3333333333333333,\"#9c179e\"],[0.4444444444444444,\"#bd3786\"],[0.5555555555555556,\"#d8576b\"],[0.6666666666666666,\"#ed7953\"],[0.7777777777777778,\"#fb9f3a\"],[0.8888888888888888,\"#fdca26\"],[1.0,\"#f0f921\"]],\"type\":\"contour\"}],\"contourcarpet\":[{\"colorbar\":{\"outlinewidth\":0,\"ticks\":\"\"},\"type\":\"contourcarpet\"}],\"heatmap\":[{\"colorbar\":{\"outlinewidth\":0,\"ticks\":\"\"},\"colorscale\":[[0.0,\"#0d0887\"],[0.1111111111111111,\"#46039f\"],[0.2222222222222222,\"#7201a8\"],[0.3333333333333333,\"#9c179e\"],[0.4444444444444444,\"#bd3786\"],[0.5555555555555556,\"#d8576b\"],[0.6666666666666666,\"#ed7953\"],[0.7777777777777778,\"#fb9f3a\"],[0.8888888888888888,\"#fdca26\"],[1.0,\"#f0f921\"]],\"type\":\"heatmap\"}],\"heatmapgl\":[{\"colorbar\":{\"outlinewidth\":0,\"ticks\":\"\"},\"colorscale\":[[0.0,\"#0d0887\"],[0.1111111111111111,\"#46039f\"],[0.2222222222222222,\"#7201a8\"],[0.3333333333333333,\"#9c179e\"],[0.4444444444444444,\"#bd3786\"],[0.5555555555555556,\"#d8576b\"],[0.6666666666666666,\"#ed7953\"],[0.7777777777777778,\"#fb9f3a\"],[0.8888888888888888,\"#fdca26\"],[1.0,\"#f0f921\"]],\"type\":\"heatmapgl\"}],\"histogram\":[{\"marker\":{\"pattern\":{\"fillmode\":\"overlay\",\"size\":10,\"solidity\":0.2}},\"type\":\"histogram\"}],\"histogram2d\":[{\"colorbar\":{\"outlinewidth\":0,\"ticks\":\"\"},\"colorscale\":[[0.0,\"#0d0887\"],[0.1111111111111111,\"#46039f\"],[0.2222222222222222,\"#7201a8\"],[0.3333333333333333,\"#9c179e\"],[0.4444444444444444,\"#bd3786\"],[0.5555555555555556,\"#d8576b\"],[0.6666666666666666,\"#ed7953\"],[0.7777777777777778,\"#fb9f3a\"],[0.8888888888888888,\"#fdca26\"],[1.0,\"#f0f921\"]],\"type\":\"histogram2d\"}],\"histogram2dcontour\":[{\"colorbar\":{\"outlinewidth\":0,\"ticks\":\"\"},\"colorscale\":[[0.0,\"#0d0887\"],[0.1111111111111111,\"#46039f\"],[0.2222222222222222,\"#7201a8\"],[0.3333333333333333,\"#9c179e\"],[0.4444444444444444,\"#bd3786\"],[0.5555555555555556,\"#d8576b\"],[0.6666666666666666,\"#ed7953\"],[0.7777777777777778,\"#fb9f3a\"],[0.8888888888888888,\"#fdca26\"],[1.0,\"#f0f921\"]],\"type\":\"histogram2dcontour\"}],\"mesh3d\":[{\"colorbar\":{\"outlinewidth\":0,\"ticks\":\"\"},\"type\":\"mesh3d\"}],\"parcoords\":[{\"line\":{\"colorbar\":{\"outlinewidth\":0,\"ticks\":\"\"}},\"type\":\"parcoords\"}],\"pie\":[{\"automargin\":true,\"type\":\"pie\"}],\"scatter\":[{\"marker\":{\"colorbar\":{\"outlinewidth\":0,\"ticks\":\"\"}},\"type\":\"scatter\"}],\"scatter3d\":[{\"line\":{\"colorbar\":{\"outlinewidth\":0,\"ticks\":\"\"}},\"marker\":{\"colorbar\":{\"outlinewidth\":0,\"ticks\":\"\"}},\"type\":\"scatter3d\"}],\"scattercarpet\":[{\"marker\":{\"colorbar\":{\"outlinewidth\":0,\"ticks\":\"\"}},\"type\":\"scattercarpet\"}],\"scattergeo\":[{\"marker\":{\"colorbar\":{\"outlinewidth\":0,\"ticks\":\"\"}},\"type\":\"scattergeo\"}],\"scattergl\":[{\"marker\":{\"colorbar\":{\"outlinewidth\":0,\"ticks\":\"\"}},\"type\":\"scattergl\"}],\"scattermapbox\":[{\"marker\":{\"colorbar\":{\"outlinewidth\":0,\"ticks\":\"\"}},\"type\":\"scattermapbox\"}],\"scatterpolar\":[{\"marker\":{\"colorbar\":{\"outlinewidth\":0,\"ticks\":\"\"}},\"type\":\"scatterpolar\"}],\"scatterpolargl\":[{\"marker\":{\"colorbar\":{\"outlinewidth\":0,\"ticks\":\"\"}},\"type\":\"scatterpolargl\"}],\"scatterternary\":[{\"marker\":{\"colorbar\":{\"outlinewidth\":0,\"ticks\":\"\"}},\"type\":\"scatterternary\"}],\"surface\":[{\"colorbar\":{\"outlinewidth\":0,\"ticks\":\"\"},\"colorscale\":[[0.0,\"#0d0887\"],[0.1111111111111111,\"#46039f\"],[0.2222222222222222,\"#7201a8\"],[0.3333333333333333,\"#9c179e\"],[0.4444444444444444,\"#bd3786\"],[0.5555555555555556,\"#d8576b\"],[0.6666666666666666,\"#ed7953\"],[0.7777777777777778,\"#fb9f3a\"],[0.8888888888888888,\"#fdca26\"],[1.0,\"#f0f921\"]],\"type\":\"surface\"}],\"table\":[{\"cells\":{\"fill\":{\"color\":\"#EBF0F8\"},\"line\":{\"color\":\"white\"}},\"header\":{\"fill\":{\"color\":\"#C8D4E3\"},\"line\":{\"color\":\"white\"}},\"type\":\"table\"}]},\"layout\":{\"annotationdefaults\":{\"arrowcolor\":\"#2a3f5f\",\"arrowhead\":0,\"arrowwidth\":1},\"autotypenumbers\":\"strict\",\"coloraxis\":{\"colorbar\":{\"outlinewidth\":0,\"ticks\":\"\"}},\"colorscale\":{\"diverging\":[[0,\"#8e0152\"],[0.1,\"#c51b7d\"],[0.2,\"#de77ae\"],[0.3,\"#f1b6da\"],[0.4,\"#fde0ef\"],[0.5,\"#f7f7f7\"],[0.6,\"#e6f5d0\"],[0.7,\"#b8e186\"],[0.8,\"#7fbc41\"],[0.9,\"#4d9221\"],[1,\"#276419\"]],\"sequential\":[[0.0,\"#0d0887\"],[0.1111111111111111,\"#46039f\"],[0.2222222222222222,\"#7201a8\"],[0.3333333333333333,\"#9c179e\"],[0.4444444444444444,\"#bd3786\"],[0.5555555555555556,\"#d8576b\"],[0.6666666666666666,\"#ed7953\"],[0.7777777777777778,\"#fb9f3a\"],[0.8888888888888888,\"#fdca26\"],[1.0,\"#f0f921\"]],\"sequentialminus\":[[0.0,\"#0d0887\"],[0.1111111111111111,\"#46039f\"],[0.2222222222222222,\"#7201a8\"],[0.3333333333333333,\"#9c179e\"],[0.4444444444444444,\"#bd3786\"],[0.5555555555555556,\"#d8576b\"],[0.6666666666666666,\"#ed7953\"],[0.7777777777777778,\"#fb9f3a\"],[0.8888888888888888,\"#fdca26\"],[1.0,\"#f0f921\"]]},\"colorway\":[\"#636efa\",\"#EF553B\",\"#00cc96\",\"#ab63fa\",\"#FFA15A\",\"#19d3f3\",\"#FF6692\",\"#B6E880\",\"#FF97FF\",\"#FECB52\"],\"font\":{\"color\":\"#2a3f5f\"},\"geo\":{\"bgcolor\":\"white\",\"lakecolor\":\"white\",\"landcolor\":\"#E5ECF6\",\"showlakes\":true,\"showland\":true,\"subunitcolor\":\"white\"},\"hoverlabel\":{\"align\":\"left\"},\"hovermode\":\"closest\",\"mapbox\":{\"style\":\"light\"},\"paper_bgcolor\":\"white\",\"plot_bgcolor\":\"#E5ECF6\",\"polar\":{\"angularaxis\":{\"gridcolor\":\"white\",\"linecolor\":\"white\",\"ticks\":\"\"},\"bgcolor\":\"#E5ECF6\",\"radialaxis\":{\"gridcolor\":\"white\",\"linecolor\":\"white\",\"ticks\":\"\"}},\"scene\":{\"xaxis\":{\"backgroundcolor\":\"#E5ECF6\",\"gridcolor\":\"white\",\"gridwidth\":2,\"linecolor\":\"white\",\"showbackground\":true,\"ticks\":\"\",\"zerolinecolor\":\"white\"},\"yaxis\":{\"backgroundcolor\":\"#E5ECF6\",\"gridcolor\":\"white\",\"gridwidth\":2,\"linecolor\":\"white\",\"showbackground\":true,\"ticks\":\"\",\"zerolinecolor\":\"white\"},\"zaxis\":{\"backgroundcolor\":\"#E5ECF6\",\"gridcolor\":\"white\",\"gridwidth\":2,\"linecolor\":\"white\",\"showbackground\":true,\"ticks\":\"\",\"zerolinecolor\":\"white\"}},\"shapedefaults\":{\"line\":{\"color\":\"#2a3f5f\"}},\"ternary\":{\"aaxis\":{\"gridcolor\":\"white\",\"linecolor\":\"white\",\"ticks\":\"\"},\"baxis\":{\"gridcolor\":\"white\",\"linecolor\":\"white\",\"ticks\":\"\"},\"bgcolor\":\"#E5ECF6\",\"caxis\":{\"gridcolor\":\"white\",\"linecolor\":\"white\",\"ticks\":\"\"}},\"title\":{\"x\":0.05},\"xaxis\":{\"automargin\":true,\"gridcolor\":\"white\",\"linecolor\":\"white\",\"ticks\":\"\",\"title\":{\"standoff\":15},\"zerolinecolor\":\"white\",\"zerolinewidth\":2},\"yaxis\":{\"automargin\":true,\"gridcolor\":\"white\",\"linecolor\":\"white\",\"ticks\":\"\",\"title\":{\"standoff\":15},\"zerolinecolor\":\"white\",\"zerolinewidth\":2}}},\"title\":{\"text\":\"<i><b>Matriz de Confusi\\u00f3n</b></i>\"},\"margin\":{\"t\":150,\"l\":200}},                        {\"responsive\": true}                    ).then(function(){\n",
       "                            \n",
       "var gd = document.getElementById('72ce156c-7a34-46c9-af2e-45b4151ec4af');\n",
       "var x = new MutationObserver(function (mutations, observer) {{\n",
       "        var display = window.getComputedStyle(gd).display;\n",
       "        if (!display || display === 'none') {{\n",
       "            console.log([gd, 'removed!']);\n",
       "            Plotly.purge(gd);\n",
       "            observer.disconnect();\n",
       "        }}\n",
       "}});\n",
       "\n",
       "// Listen for the removal of the full notebook cells\n",
       "var notebookContainer = gd.closest('#notebook-container');\n",
       "if (notebookContainer) {{\n",
       "    x.observe(notebookContainer, {childList: true});\n",
       "}}\n",
       "\n",
       "// Listen for the clearing of the current output cell\n",
       "var outputEl = gd.closest('.output');\n",
       "if (outputEl) {{\n",
       "    x.observe(outputEl, {childList: true});\n",
       "}}\n",
       "\n",
       "                        })                };                });            </script>        </div>"
      ]
     },
     "metadata": {},
     "output_type": "display_data"
    },
    {
     "name": "stdout",
     "output_type": "stream",
     "text": [
      "None\n"
     ]
    }
   ],
   "source": [
    "def grafica():\n",
    "    '''Graficar la matriz de confusion con diseños estructurados'''\n",
    "    z = matrizConfusion()\n",
    "    x = [0, 1, 2]\n",
    "    y =  [0, 1, 2]\n",
    "    z_text = [[str(y) for y in x] for x in z]\n",
    "    fig = ff.create_annotated_heatmap(z, x=x, y=y, annotation_text=z_text, colorscale='GnBu')\n",
    "    fig.update_layout(title_text='<i><b>Matriz de Confusión</b></i>')\n",
    "    fig.add_annotation(dict(font=dict(color=\"black\",size=14),\n",
    "                            x=0.5,\n",
    "                            y=-0.15,\n",
    "                            showarrow=False,\n",
    "                            text='<i><b>Predicted value</b></i>',\n",
    "                            xref=\"paper\",\n",
    "                            yref=\"paper\"))\n",
    "    fig.add_annotation(dict(font=dict(color=\"black\",size=14),\n",
    "                            x=-0.20,\n",
    "                            y=0.5,\n",
    "                            showarrow=False,\n",
    "                            text='<i><b>Real value</b></i>',\n",
    "                            textangle=-90,\n",
    "                            xref=\"paper\",\n",
    "                            yref=\"paper\"))\n",
    "    fig.update_layout(margin=dict(t=150, l=200))\n",
    "    fig['data'][0]['showscale'] = True\n",
    "    fig.show()\n",
    "print(grafica.__doc__)\n",
    "print(grafica())"
   ]
  },
  {
   "cell_type": "markdown",
   "id": "ede0ad3c-0639-4bce-ae5b-af4b1f675a3a",
   "metadata": {},
   "source": [
    "###  ****Operaciones matemáticas**** "
   ]
  },
  {
   "cell_type": "code",
   "execution_count": 33,
   "id": "edf9742d-5f93-4afe-8a08-5339f4bc600f",
   "metadata": {},
   "outputs": [
    {
     "name": "stdout",
     "output_type": "stream",
     "text": [
      "Valor de la precision para las tres clases\n",
      "Precision0: 0.875\n",
      "Precision1: 1.0\n",
      "Precision2: 0.9333333333333333\n",
      "None\n"
     ]
    }
   ],
   "source": [
    "def precisionClases():\n",
    "    '''Valor de la precision para las tres clases'''\n",
    "    precision0=(21/24)\n",
    "    print(\"Precision0:\",precision0)\n",
    "    precision1=(15/15)\n",
    "    print(\"Precision1:\",precision1)\n",
    "    precision2=(14/15)\n",
    "    print(\"Precision2:\",precision2)\n",
    "print(precisionClases.__doc__)\n",
    "print(precisionClases())"
   ]
  },
  {
   "cell_type": "code",
   "execution_count": 34,
   "id": "b3decc6d-0485-491b-b0c4-4e31fc542130",
   "metadata": {},
   "outputs": [
    {
     "name": "stdout",
     "output_type": "stream",
     "text": [
      "Valor del recall para las tres clases\n",
      "Rrecall0: 1.0\n",
      "Rrecall1: 0.7894736842105263\n",
      "Rrecall2: 1.0\n",
      "None\n"
     ]
    }
   ],
   "source": [
    "def recallClases():\n",
    "    '''Valor del recall para las tres clases'''\n",
    "    recall0=(21/21)\n",
    "    print(\"Recall0:\",recall0)\n",
    "    recall1=(15/19)\n",
    "    print(\"Recall1:\",recall1)\n",
    "    recall2=(14/14)\n",
    "    print(\"Recall2:\",recall2)\n",
    "print(recallClases.__doc__)\n",
    "print(recallClases())"
   ]
  },
  {
   "cell_type": "code",
   "execution_count": 36,
   "id": "ccf65196-4841-46b8-b54f-dcb7cf218b7f",
   "metadata": {},
   "outputs": [
    {
     "name": "stdout",
     "output_type": "stream",
     "text": [
      "Valor de Acurrency\n",
      "acurrency: 0.9259259259259259\n",
      "None\n"
     ]
    }
   ],
   "source": [
    "def acurrency():\n",
    "    '''Valor de Acurrency'''\n",
    "    acurrency=(21+15+14)/(54)\n",
    "    print(\"Acurrency:\",acurrency)\n",
    "print(acurrency.__doc__)\n",
    "print(acurrency())"
   ]
  },
  {
   "cell_type": "code",
   "execution_count": 40,
   "id": "7f61cee9-0a0e-4acd-b9f0-14b363517aa0",
   "metadata": {},
   "outputs": [
    {
     "name": "stdout",
     "output_type": "stream",
     "text": [
      "Valor del recall para las tres clases\n",
      "F1score0: 0.9333333333333333\n",
      "F1score1: 0.8823529411764706\n",
      "F1score: 0.9655172413793104\n",
      "None\n"
     ]
    }
   ],
   "source": [
    "def f1score():\n",
    "    '''Valor del recall para las tres clases'''\n",
    "    f1score0=2*(0.875*1)/(0.875+1)\n",
    "    print(\"F1score0:\",f1score0)\n",
    "    f1score1=2*(1*(15/19))/(1+(15/19))\n",
    "    print(\"F1score1:\",f1score1)\n",
    "    f1score2=2*((14/15)*1)/((14/15)+1)\n",
    "    print(\"F1score:\",f1score2)\n",
    "print(f1score.__doc__)\n",
    "print(f1score())"
   ]
  }
 ],
 "metadata": {
  "kernelspec": {
   "display_name": "Python 3 (ipykernel)",
   "language": "python",
   "name": "python3"
  },
  "language_info": {
   "codemirror_mode": {
    "name": "ipython",
    "version": 3
   },
   "file_extension": ".py",
   "mimetype": "text/x-python",
   "name": "python",
   "nbconvert_exporter": "python",
   "pygments_lexer": "ipython3",
   "version": "3.9.12"
  }
 },
 "nbformat": 4,
 "nbformat_minor": 5
}
