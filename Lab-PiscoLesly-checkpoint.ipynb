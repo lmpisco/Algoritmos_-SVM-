{
 "cells": [
  {
   "cell_type": "code",
   "execution_count": 18,
   "id": "8b43dba3",
   "metadata": {},
   "outputs": [
    {
     "name": "stdout",
     "output_type": "stream",
     "text": [
      "Librerías a utilizar para realizar el entrenamiento del modelo. \n",
      "    Estas librerías son una herramienta muy importantes para realizar la codificación en Python.\n"
     ]
    }
   ],
   "source": [
    "def librerias( ):\n",
    "    '''Librerías a utilizar para realizar el entrenamiento del modelo. \n",
    "    Estas librerías son una herramienta muy importantes para realizar la codificación en Python.'''\n",
    "from sklearn.datasets import load_wine\n",
    "from sklearn import datasets\n",
    "from sklearn.model_selection import train_test_split\n",
    "from sklearn import svm\n",
    "from sklearn import metrics\n",
    "from sklearn.metrics import classification_report\n",
    "from sklearn.metrics import confusion_matrix\n",
    "from sklearn.metrics import accuracy_score, precision_score, recall_score, f1_score\n",
    "print(librerias.__doc__)\n",
    "import numpy\n",
    "import seaborn as sns\n",
    "import plotly.figure_factory as ff\n"
   ]
  },
  {
   "cell_type": "code",
   "execution_count": 19,
   "id": "269a2c0e",
   "metadata": {},
   "outputs": [
    {
     "name": "stdout",
     "output_type": "stream",
     "text": [
      "Asignacion de un dataset a la varibale dicc o tambien conocida como diccionario de datos.\n",
      "    En este caso se da uso de un dataset que esta almacenada en sklearn, esto quiere decir que los datos serán extraidos desde internet.\n",
      "\n",
      "    Es necesario mencionar que la función retorna la variable \"dicc\".\n"
     ]
    }
   ],
   "source": [
    "def dataset():\n",
    "    '''Asignacion de un dataset a la varibale dicc o tambien conocida como diccionario de datos.\n",
    "    En este caso se da uso de un dataset que esta almacenada en sklearn, esto quiere decir que los datos serán extraidos desde internet.\\n\n",
    "    Es necesario mencionar que la función retorna la variable \"dicc\".'''\n",
    "    dicc = datasets.load_wine()\n",
    "    return(dicc)\n",
    "print(dataset.__doc__)"
   ]
  },
  {
   "cell_type": "code",
   "execution_count": null,
   "id": "0811a5eb",
   "metadata": {},
   "outputs": [],
   "source": []
  }
 ],
 "metadata": {
  "kernelspec": {
   "display_name": "Python 3 (ipykernel)",
   "language": "python",
   "name": "python3"
  },
  "language_info": {
   "codemirror_mode": {
    "name": "ipython",
    "version": 3
   },
   "file_extension": ".py",
   "mimetype": "text/x-python",
   "name": "python",
   "nbconvert_exporter": "python",
   "pygments_lexer": "ipython3",
   "version": "3.9.12"
  }
 },
 "nbformat": 4,
 "nbformat_minor": 5
}
